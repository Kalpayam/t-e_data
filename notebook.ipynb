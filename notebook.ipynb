{
 "cells": [
  {
   "cell_type": "markdown",
   "id": "1a556679",
   "metadata": {},
   "source": [
    "What do I learn about emissions around European ports?"
   ]
  },
  {
   "cell_type": "markdown",
   "id": "dcc0b9f5",
   "metadata": {},
   "source": [
    "I have read the files in excel and joined a table with country codes and continents to join with the ports table using vlookups. This will allow me to filter the european ports.\n",
    "The Excel code is as follows: =VLOOKUP(Sheet1!B2; Countries!\\\\$A\\\\$2:\\\\$B\\\\$263; 2;FALSE)"
   ]
  },
  {
   "cell_type": "code",
   "execution_count": 3,
   "id": "efd7f19a",
   "metadata": {},
   "outputs": [],
   "source": [
    "import pandas as pd\n",
    "import seaborn as sns"
   ]
  },
  {
   "cell_type": "code",
   "execution_count": 4,
   "id": "57a66da1",
   "metadata": {},
   "outputs": [],
   "source": [
    "ships = pd.read_excel ('AIS.xlsx')"
   ]
  },
  {
   "cell_type": "code",
   "execution_count": 5,
   "id": "6b5a89e7",
   "metadata": {},
   "outputs": [],
   "source": [
    "ports = pd.read_excel('PORTS.xlsx')"
   ]
  },
  {
   "cell_type": "markdown",
   "id": "3c61bc9b",
   "metadata": {},
   "source": [
    "I defined a function to calculate the distance between two coordinates using the geodesic function from geopy.\n"
   ]
  },
  {
   "cell_type": "code",
   "execution_count": 6,
   "id": "8285fd7b",
   "metadata": {},
   "outputs": [],
   "source": [
    "from geopy.distance import geodesic\n",
    "\n",
    "def calculate_distance(lat1, lon1, lat2, lon2):\n",
    "    return geodesic((lat1, lon1), (lat2, lon2)).kilometers"
   ]
  },
  {
   "cell_type": "markdown",
   "id": "8ca23458",
   "metadata": {},
   "source": [
    "I proceded with running a code to use the distance function with two for loops to calculate distances between every observation and every port. As expected, this was a time consuming task for even a powerful PC and one which I had to stop after about one hour. I decided to take steps to simplify the calculation*. \n",
    "\n",
    "\\\\* *I considered backup plans to parralelize the compuation with gpu accelarion on CuPy, or using SQL on snowflake.*\n",
    "\n"
   ]
  },
  {
   "cell_type": "markdown",
   "id": "3643ea1d",
   "metadata": {},
   "source": [
    "I defined a **rectangular** **space** with 0.2 degrees LAT and 0.3 degrees LONG on each side and the ship's observed AIS position in the middle. 0.3 degrees Longitude is roughly 12 nautical miles(UNCLOS definition of territorial waters) at 50 degrees North which is an average for European ports. 0.2 degrees lattitude amounts to a similar distance at 50 degrees North."
   ]
  },
  {
   "cell_type": "code",
   "execution_count": 7,
   "id": "c7262b32",
   "metadata": {},
   "outputs": [],
   "source": [
    "\n",
    "ships['ports_in_range_indexes'] = None\n",
    "\n",
    "for index, row in ships.iterrows():\n",
    "    lng_distance = 0.3\n",
    "    lat_distance = 0.2\n",
    "    condition1 = ports['LONGITUDE'] > row['LONGITUDE'] - lng_distance\n",
    "    condition2 = ports['LONGITUDE'] < row['LONGITUDE'] + lng_distance\n",
    "    condition3 = ports['LATITUDE'] > row['LATITUDE'] - lat_distance\n",
    "    condition4 = ports['LATITUDE'] < row['LATITUDE'] + lat_distance\n",
    "\n",
    "    result_indexes = ports[condition1 & condition2 & condition3 & condition4].index\n",
    "    if result_indexes.empty:\n",
    "        continue\n",
    "    else:\n",
    "        ships.at[index, 'ports_in_range_indexes'] = result_indexes.tolist()\n",
    "\n",
    "ships.to_csv('ships_box.csv', index=False)\n"
   ]
  },
  {
   "cell_type": "markdown",
   "id": "7ea40d57",
   "metadata": {},
   "source": [
    "Next, I filter the observations where ships where close to ports."
   ]
  },
  {
   "cell_type": "code",
   "execution_count": 8,
   "id": "6b6d417d",
   "metadata": {},
   "outputs": [],
   "source": [
    "ships_around_ports = ships[ships['ports_in_range_indexes'].notna()]"
   ]
  },
  {
   "cell_type": "code",
   "execution_count": 9,
   "id": "c02fded7",
   "metadata": {},
   "outputs": [
    {
     "data": {
      "text/html": [
       "<div>\n",
       "<style scoped>\n",
       "    .dataframe tbody tr th:only-of-type {\n",
       "        vertical-align: middle;\n",
       "    }\n",
       "\n",
       "    .dataframe tbody tr th {\n",
       "        vertical-align: top;\n",
       "    }\n",
       "\n",
       "    .dataframe thead th {\n",
       "        text-align: right;\n",
       "    }\n",
       "</style>\n",
       "<table border=\"1\" class=\"dataframe\">\n",
       "  <thead>\n",
       "    <tr style=\"text-align: right;\">\n",
       "      <th></th>\n",
       "      <th>IMO</th>\n",
       "      <th>TIME</th>\n",
       "      <th>SOG</th>\n",
       "      <th>LONGITUDE</th>\n",
       "      <th>LATITUDE</th>\n",
       "      <th>E_CO2_kg</th>\n",
       "      <th>ports_in_range_indexes</th>\n",
       "    </tr>\n",
       "  </thead>\n",
       "  <tbody>\n",
       "    <tr>\n",
       "      <th>4</th>\n",
       "      <td>9632143</td>\n",
       "      <td>2019-12-29 14:00:00</td>\n",
       "      <td>10.669231</td>\n",
       "      <td>121.780000</td>\n",
       "      <td>38.746667</td>\n",
       "      <td>4136.355716</td>\n",
       "      <td>[1627]</td>\n",
       "    </tr>\n",
       "    <tr>\n",
       "      <th>5</th>\n",
       "      <td>9619933</td>\n",
       "      <td>2019-07-05 18:00:00</td>\n",
       "      <td>0.000000</td>\n",
       "      <td>120.261050</td>\n",
       "      <td>35.998700</td>\n",
       "      <td>0.000000</td>\n",
       "      <td>[1625, 1844]</td>\n",
       "    </tr>\n",
       "    <tr>\n",
       "      <th>10</th>\n",
       "      <td>9769300</td>\n",
       "      <td>2019-09-16 04:00:00</td>\n",
       "      <td>0.000000</td>\n",
       "      <td>128.800500</td>\n",
       "      <td>35.077288</td>\n",
       "      <td>1925.230500</td>\n",
       "      <td>[2459, 2464, 2465, 2478]</td>\n",
       "    </tr>\n",
       "    <tr>\n",
       "      <th>12</th>\n",
       "      <td>9755945</td>\n",
       "      <td>2019-02-10 22:00:00</td>\n",
       "      <td>0.000000</td>\n",
       "      <td>114.280000</td>\n",
       "      <td>22.575000</td>\n",
       "      <td>1517.140800</td>\n",
       "      <td>[1665, 1871]</td>\n",
       "    </tr>\n",
       "    <tr>\n",
       "      <th>14</th>\n",
       "      <td>9839301</td>\n",
       "      <td>2019-04-18 14:00:00</td>\n",
       "      <td>0.000000</td>\n",
       "      <td>128.706667</td>\n",
       "      <td>34.875000</td>\n",
       "      <td>0.000000</td>\n",
       "      <td>[2459]</td>\n",
       "    </tr>\n",
       "    <tr>\n",
       "      <th>...</th>\n",
       "      <td>...</td>\n",
       "      <td>...</td>\n",
       "      <td>...</td>\n",
       "      <td>...</td>\n",
       "      <td>...</td>\n",
       "      <td>...</td>\n",
       "      <td>...</td>\n",
       "    </tr>\n",
       "    <tr>\n",
       "      <th>875991</th>\n",
       "      <td>9839466</td>\n",
       "      <td>2019-01-08 08:00:00</td>\n",
       "      <td>0.135019</td>\n",
       "      <td>128.570233</td>\n",
       "      <td>34.947090</td>\n",
       "      <td>1925.230500</td>\n",
       "      <td>[2459, 2478]</td>\n",
       "    </tr>\n",
       "    <tr>\n",
       "      <th>875992</th>\n",
       "      <td>9767388</td>\n",
       "      <td>2019-03-11 05:00:00</td>\n",
       "      <td>0.735000</td>\n",
       "      <td>0.136667</td>\n",
       "      <td>49.458333</td>\n",
       "      <td>1476.683600</td>\n",
       "      <td>[544, 551, 5004, 5013, 5014, 5053, 5055, 7523]</td>\n",
       "    </tr>\n",
       "    <tr>\n",
       "      <th>875993</th>\n",
       "      <td>9769283</td>\n",
       "      <td>2019-12-03 16:00:00</td>\n",
       "      <td>0.000000</td>\n",
       "      <td>128.805000</td>\n",
       "      <td>35.076667</td>\n",
       "      <td>1925.230500</td>\n",
       "      <td>[2459, 2464, 2465, 2478]</td>\n",
       "    </tr>\n",
       "    <tr>\n",
       "      <th>875994</th>\n",
       "      <td>9632129</td>\n",
       "      <td>2019-12-01 19:00:00</td>\n",
       "      <td>0.129966</td>\n",
       "      <td>121.865283</td>\n",
       "      <td>39.013786</td>\n",
       "      <td>1851.117300</td>\n",
       "      <td>[1627]</td>\n",
       "    </tr>\n",
       "    <tr>\n",
       "      <th>875997</th>\n",
       "      <td>9839466</td>\n",
       "      <td>2019-02-27 00:00:00</td>\n",
       "      <td>0.135019</td>\n",
       "      <td>128.570233</td>\n",
       "      <td>34.947090</td>\n",
       "      <td>1925.230500</td>\n",
       "      <td>[2459, 2478]</td>\n",
       "    </tr>\n",
       "  </tbody>\n",
       "</table>\n",
       "<p>341258 rows × 7 columns</p>\n",
       "</div>"
      ],
      "text/plain": [
       "            IMO                TIME        SOG   LONGITUDE   LATITUDE  \\\n",
       "4       9632143 2019-12-29 14:00:00  10.669231  121.780000  38.746667   \n",
       "5       9619933 2019-07-05 18:00:00   0.000000  120.261050  35.998700   \n",
       "10      9769300 2019-09-16 04:00:00   0.000000  128.800500  35.077288   \n",
       "12      9755945 2019-02-10 22:00:00   0.000000  114.280000  22.575000   \n",
       "14      9839301 2019-04-18 14:00:00   0.000000  128.706667  34.875000   \n",
       "...         ...                 ...        ...         ...        ...   \n",
       "875991  9839466 2019-01-08 08:00:00   0.135019  128.570233  34.947090   \n",
       "875992  9767388 2019-03-11 05:00:00   0.735000    0.136667  49.458333   \n",
       "875993  9769283 2019-12-03 16:00:00   0.000000  128.805000  35.076667   \n",
       "875994  9632129 2019-12-01 19:00:00   0.129966  121.865283  39.013786   \n",
       "875997  9839466 2019-02-27 00:00:00   0.135019  128.570233  34.947090   \n",
       "\n",
       "           E_CO2_kg                          ports_in_range_indexes  \n",
       "4       4136.355716                                          [1627]  \n",
       "5          0.000000                                    [1625, 1844]  \n",
       "10      1925.230500                        [2459, 2464, 2465, 2478]  \n",
       "12      1517.140800                                    [1665, 1871]  \n",
       "14         0.000000                                          [2459]  \n",
       "...             ...                                             ...  \n",
       "875991  1925.230500                                    [2459, 2478]  \n",
       "875992  1476.683600  [544, 551, 5004, 5013, 5014, 5053, 5055, 7523]  \n",
       "875993  1925.230500                        [2459, 2464, 2465, 2478]  \n",
       "875994  1851.117300                                          [1627]  \n",
       "875997  1925.230500                                    [2459, 2478]  \n",
       "\n",
       "[341258 rows x 7 columns]"
      ]
     },
     "execution_count": 9,
     "metadata": {},
     "output_type": "execute_result"
    }
   ],
   "source": [
    "ships_around_ports"
   ]
  },
  {
   "cell_type": "markdown",
   "id": "83e60b53",
   "metadata": {},
   "source": [
    "I can now use the distance function defined earlier on and run a code with for loops applied on a smaller dataset. "
   ]
  },
  {
   "cell_type": "code",
   "execution_count": 10,
   "id": "a56f16b5",
   "metadata": {},
   "outputs": [],
   "source": [
    "matches = []\n",
    "\n",
    "for index, ship in ships_around_ports.iterrows():\n",
    "    lat_ship = float(ship['LATITUDE'].replace(',', '.')) if ',' in str(ship['LATITUDE']) else float(ship['LATITUDE'])\n",
    "    lon_ship = float(ship['LONGITUDE'].replace(',', '.')) if ',' in str(ship['LONGITUDE']) else float(ship['LONGITUDE'])\n",
    "    min_distance = float('inf') \n",
    "    closest_port_index = None\n",
    "\n",
    "    for value in ship['ports_in_range_indexes']:\n",
    "        lat_port = float(ports.loc[value, 'LATITUDE'].replace(',', '.')) if ',' in str(ports.loc[value, 'LATITUDE']) else float(ports.loc[value, 'LATITUDE'])\n",
    "        lon_port = float(ports.loc[value, 'LONGITUDE'].replace(',', '.')) if ',' in str(ports.loc[value, 'LONGITUDE']) else float(ports.loc[value, 'LONGITUDE'])\n",
    "\n",
    "        distance = calculate_distance(lat_ship, lon_ship, lat_port, lon_port)\n",
    "\n",
    "        if distance < min_distance:\n",
    "            min_distance = distance\n",
    "            closest_port_index = value\n",
    "\n",
    "    ships.at[index, 'closest_port'] = ports.loc[closest_port_index, 'PORT_NAME']\n",
    "    ships.at[index, 'continent'] = ports.loc[closest_port_index, 'Continent']\n",
    "    ships.at[index, 'distance_to_closest_port'] = min_distance\n",
    "        \n",
    "\n",
    "ships.to_csv('final_ship.csv', index=False)\n"
   ]
  },
  {
   "cell_type": "code",
   "execution_count": null,
   "id": "d601825f",
   "metadata": {},
   "outputs": [],
   "source": []
  }
 ],
 "metadata": {
  "kernelspec": {
   "display_name": "Python 3 (ipykernel)",
   "language": "python",
   "name": "python3"
  },
  "language_info": {
   "codemirror_mode": {
    "name": "ipython",
    "version": 3
   },
   "file_extension": ".py",
   "mimetype": "text/x-python",
   "name": "python",
   "nbconvert_exporter": "python",
   "pygments_lexer": "ipython3",
   "version": "3.11.5"
  }
 },
 "nbformat": 4,
 "nbformat_minor": 5
}
