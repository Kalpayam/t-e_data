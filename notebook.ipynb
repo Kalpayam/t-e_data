{
 "cells": [
  {
   "cell_type": "markdown",
   "id": "1a556679",
   "metadata": {},
   "source": [
    "I have hourly data for geographical positions, speed over goround, and CO2 emissions from 100 unique ships for the year 2019. I have also loaded a list of major ports across the world. Assuming the sample is complete and representative, I intened to present a simple analysis of shipping emissions."
   ]
  },
  {
   "cell_type": "code",
   "execution_count": 1,
   "id": "efd7f19a",
   "metadata": {},
   "outputs": [],
   "source": [
    "import pandas as pd\n",
    "import sqlite3\n",
    "import geopy"
   ]
  },
  {
   "cell_type": "markdown",
   "id": "bb4ae82a",
   "metadata": {},
   "source": [
    "The first step is loading the data!"
   ]
  },
  {
   "cell_type": "code",
   "execution_count": 4,
   "id": "57a66da1",
   "metadata": {},
   "outputs": [
    {
     "name": "stdout",
     "output_type": "stream",
     "text": [
      "<class 'pandas.core.frame.DataFrame'>\n",
      "RangeIndex: 876000 entries, 0 to 875999\n",
      "Data columns (total 7 columns):\n",
      " #   Column     Non-Null Count   Dtype  \n",
      "---  ------     --------------   -----  \n",
      " 0   index      876000 non-null  int64  \n",
      " 1   IMO        876000 non-null  int64  \n",
      " 2   TIME       876000 non-null  object \n",
      " 3   SOG        876000 non-null  float64\n",
      " 4   LONGITUDE  876000 non-null  float64\n",
      " 5   LATITUDE   876000 non-null  float64\n",
      " 6   E_CO2_kg   876000 non-null  float64\n",
      "dtypes: float64(4), int64(2), object(1)\n",
      "memory usage: 46.8+ MB\n",
      "<class 'pandas.core.frame.DataFrame'>\n",
      "RangeIndex: 177 entries, 0 to 176\n",
      "Data columns (total 8 columns):\n",
      " #   Column    Non-Null Count  Dtype  \n",
      "---  ------    --------------  -----  \n",
      " 0   index     177 non-null    int64  \n",
      " 1   OBJECTID  177 non-null    int64  \n",
      " 2   Postal    177 non-null    object \n",
      " 3   Lat       175 non-null    float64\n",
      " 4   Lng       175 non-null    float64\n",
      " 5   Type      177 non-null    object \n",
      " 6   ISO3      177 non-null    object \n",
      " 7   REGION    164 non-null    object \n",
      "dtypes: float64(2), int64(2), object(4)\n",
      "memory usage: 11.2+ KB\n"
     ]
    }
   ],
   "source": [
    "con = sqlite3.connect(\"dwh/db\")\n",
    "\n",
    "ships = pd.read_sql_query('select * from ships', con)\n",
    "ports = pd.read_sql_query('select * from ports', con)\n",
    "ships.info()\n",
    "ports.info()\n",
    "con.close()"
   ]
  },
  {
   "cell_type": "markdown",
   "id": "3c61bc9b",
   "metadata": {},
   "source": [
    "I defined a function to calculate the distance between two coordinates using the geodesic function from geopy.\n"
   ]
  },
  {
   "cell_type": "code",
   "execution_count": 5,
   "id": "8285fd7b",
   "metadata": {},
   "outputs": [],
   "source": [
    "from geopy.distance import geodesic\n",
    "\n",
    "def calculate_distance(lat1, lon1, lat2, lon2):\n",
    "    return geodesic((lat1, lon1), (lat2, lon2)).kilometers"
   ]
  },
  {
   "cell_type": "markdown",
   "id": "8ca23458",
   "metadata": {},
   "source": [
    "I proceded with running a code to use the distance function with two for loops to calculate distances between every observation and every port. "
   ]
  },
  {
   "cell_type": "markdown",
   "id": "3643ea1d",
   "metadata": {},
   "source": [
    "I defined a **rectangular** **space** with 0.2 degrees LAT and 0.3 degrees LONG on each side and the ship's observed AIS position in the middle. 0.3 degrees Longitude is roughly 12 nautical miles(UNCLOS definition of territorial waters) at 50 degrees North which is an average for European ports. 0.2 degrees lattitude amounts to a similar distance at 50 degrees North."
   ]
  },
  {
   "cell_type": "code",
   "execution_count": 6,
   "id": "c7262b32",
   "metadata": {},
   "outputs": [],
   "source": [
    "\n",
    "ships['ports_in_range_indexes'] = None\n",
    "\n",
    "for index, row in ships.iterrows():\n",
    "    lng_distance = 0.3\n",
    "    lat_distance = 0.2\n",
    "    condition1 = ports['Lng'] > row['LONGITUDE'] - lng_distance\n",
    "    condition2 = ports['Lng'] < row['LONGITUDE'] + lng_distance\n",
    "    condition3 = ports['Lat'] > row['LATITUDE'] - lat_distance\n",
    "    condition4 = ports['Lat'] < row['LATITUDE'] + lat_distance\n",
    "\n",
    "    result_indexes = ports[condition1 & condition2 & condition3 & condition4].index\n",
    "    if result_indexes.empty:\n",
    "        continue\n",
    "    else:\n",
    "        ships.at[index, 'ports_in_range_indexes'] = result_indexes.tolist()\n"
   ]
  },
  {
   "cell_type": "code",
   "execution_count": 7,
   "id": "78927dee",
   "metadata": {},
   "outputs": [
    {
     "ename": "NameError",
     "evalue": "name 'ships_box' is not defined",
     "output_type": "error",
     "traceback": [
      "\u001b[1;31m---------------------------------------------------------------------------\u001b[0m",
      "\u001b[1;31mNameError\u001b[0m                                 Traceback (most recent call last)",
      "Cell \u001b[1;32mIn[7], line 1\u001b[0m\n\u001b[1;32m----> 1\u001b[0m \u001b[43mships_box\u001b[49m\u001b[38;5;241m.\u001b[39minfo()\n",
      "\u001b[1;31mNameError\u001b[0m: name 'ships_box' is not defined"
     ]
    }
   ],
   "source": [
    "ships_box.info()"
   ]
  },
  {
   "cell_type": "markdown",
   "id": "7ea40d57",
   "metadata": {},
   "source": [
    "Next, I filter the observations where ships where close to ports."
   ]
  },
  {
   "cell_type": "code",
   "execution_count": 8,
   "id": "6b6d417d",
   "metadata": {},
   "outputs": [],
   "source": [
    "ships_around_ports = ships[ships['ports_in_range_indexes'].notna()]\n",
    "ships_around_ports.to_sql"
   ]
  },
  {
   "cell_type": "code",
   "execution_count": 9,
   "id": "c02fded7",
   "metadata": {},
   "outputs": [
    {
     "data": {
      "text/html": [
       "<div>\n",
       "<style scoped>\n",
       "    .dataframe tbody tr th:only-of-type {\n",
       "        vertical-align: middle;\n",
       "    }\n",
       "\n",
       "    .dataframe tbody tr th {\n",
       "        vertical-align: top;\n",
       "    }\n",
       "\n",
       "    .dataframe thead th {\n",
       "        text-align: right;\n",
       "    }\n",
       "</style>\n",
       "<table border=\"1\" class=\"dataframe\">\n",
       "  <thead>\n",
       "    <tr style=\"text-align: right;\">\n",
       "      <th></th>\n",
       "      <th>index</th>\n",
       "      <th>IMO</th>\n",
       "      <th>TIME</th>\n",
       "      <th>SOG</th>\n",
       "      <th>LONGITUDE</th>\n",
       "      <th>LATITUDE</th>\n",
       "      <th>E_CO2_kg</th>\n",
       "      <th>ports_in_range_indexes</th>\n",
       "    </tr>\n",
       "  </thead>\n",
       "  <tbody>\n",
       "    <tr>\n",
       "      <th>18</th>\n",
       "      <td>18</td>\n",
       "      <td>9783526</td>\n",
       "      <td>2019-11-19 02:00:00</td>\n",
       "      <td>16.929167</td>\n",
       "      <td>-5.876352</td>\n",
       "      <td>35.913180</td>\n",
       "      <td>16680.828581</td>\n",
       "      <td>[81]</td>\n",
       "    </tr>\n",
       "    <tr>\n",
       "      <th>89</th>\n",
       "      <td>89</td>\n",
       "      <td>9783461</td>\n",
       "      <td>2019-05-26 03:00:00</td>\n",
       "      <td>8.650000</td>\n",
       "      <td>32.336667</td>\n",
       "      <td>31.198333</td>\n",
       "      <td>1396.629000</td>\n",
       "      <td>[108]</td>\n",
       "    </tr>\n",
       "    <tr>\n",
       "      <th>365</th>\n",
       "      <td>365</td>\n",
       "      <td>9619971</td>\n",
       "      <td>2019-03-16 03:00:00</td>\n",
       "      <td>9.366667</td>\n",
       "      <td>32.385517</td>\n",
       "      <td>31.364083</td>\n",
       "      <td>4441.347806</td>\n",
       "      <td>[108]</td>\n",
       "    </tr>\n",
       "    <tr>\n",
       "      <th>401</th>\n",
       "      <td>401</td>\n",
       "      <td>9632155</td>\n",
       "      <td>2019-03-30 10:00:00</td>\n",
       "      <td>0.015789</td>\n",
       "      <td>-5.568333</td>\n",
       "      <td>35.876667</td>\n",
       "      <td>1517.140800</td>\n",
       "      <td>[81]</td>\n",
       "    </tr>\n",
       "    <tr>\n",
       "      <th>503</th>\n",
       "      <td>503</td>\n",
       "      <td>9619921</td>\n",
       "      <td>2019-01-12 14:00:00</td>\n",
       "      <td>9.500000</td>\n",
       "      <td>32.310867</td>\n",
       "      <td>31.108750</td>\n",
       "      <td>4660.177824</td>\n",
       "      <td>[108]</td>\n",
       "    </tr>\n",
       "    <tr>\n",
       "      <th>...</th>\n",
       "      <td>...</td>\n",
       "      <td>...</td>\n",
       "      <td>...</td>\n",
       "      <td>...</td>\n",
       "      <td>...</td>\n",
       "      <td>...</td>\n",
       "      <td>...</td>\n",
       "      <td>...</td>\n",
       "    </tr>\n",
       "    <tr>\n",
       "      <th>875496</th>\n",
       "      <td>875496</td>\n",
       "      <td>9783514</td>\n",
       "      <td>2019-02-10 02:00:00</td>\n",
       "      <td>6.150000</td>\n",
       "      <td>32.382088</td>\n",
       "      <td>31.353047</td>\n",
       "      <td>1396.629000</td>\n",
       "      <td>[108]</td>\n",
       "    </tr>\n",
       "    <tr>\n",
       "      <th>875589</th>\n",
       "      <td>875589</td>\n",
       "      <td>9769271</td>\n",
       "      <td>2019-12-04 18:00:00</td>\n",
       "      <td>0.000000</td>\n",
       "      <td>32.341667</td>\n",
       "      <td>31.455000</td>\n",
       "      <td>1925.230500</td>\n",
       "      <td>[108]</td>\n",
       "    </tr>\n",
       "    <tr>\n",
       "      <th>875778</th>\n",
       "      <td>875778</td>\n",
       "      <td>9619921</td>\n",
       "      <td>2019-05-07 00:00:00</td>\n",
       "      <td>0.100000</td>\n",
       "      <td>32.360050</td>\n",
       "      <td>31.463217</td>\n",
       "      <td>1851.117300</td>\n",
       "      <td>[108]</td>\n",
       "    </tr>\n",
       "    <tr>\n",
       "      <th>875795</th>\n",
       "      <td>875795</td>\n",
       "      <td>9776200</td>\n",
       "      <td>2019-09-03 20:00:00</td>\n",
       "      <td>0.200000</td>\n",
       "      <td>32.320008</td>\n",
       "      <td>31.461775</td>\n",
       "      <td>1925.230500</td>\n",
       "      <td>[108]</td>\n",
       "    </tr>\n",
       "    <tr>\n",
       "      <th>875914</th>\n",
       "      <td>875914</td>\n",
       "      <td>9754965</td>\n",
       "      <td>2019-07-25 21:00:00</td>\n",
       "      <td>0.000000</td>\n",
       "      <td>32.355000</td>\n",
       "      <td>31.210000</td>\n",
       "      <td>1517.140800</td>\n",
       "      <td>[108]</td>\n",
       "    </tr>\n",
       "  </tbody>\n",
       "</table>\n",
       "<p>8532 rows × 8 columns</p>\n",
       "</div>"
      ],
      "text/plain": [
       "         index      IMO                 TIME        SOG  LONGITUDE   LATITUDE  \\\n",
       "18          18  9783526  2019-11-19 02:00:00  16.929167  -5.876352  35.913180   \n",
       "89          89  9783461  2019-05-26 03:00:00   8.650000  32.336667  31.198333   \n",
       "365        365  9619971  2019-03-16 03:00:00   9.366667  32.385517  31.364083   \n",
       "401        401  9632155  2019-03-30 10:00:00   0.015789  -5.568333  35.876667   \n",
       "503        503  9619921  2019-01-12 14:00:00   9.500000  32.310867  31.108750   \n",
       "...        ...      ...                  ...        ...        ...        ...   \n",
       "875496  875496  9783514  2019-02-10 02:00:00   6.150000  32.382088  31.353047   \n",
       "875589  875589  9769271  2019-12-04 18:00:00   0.000000  32.341667  31.455000   \n",
       "875778  875778  9619921  2019-05-07 00:00:00   0.100000  32.360050  31.463217   \n",
       "875795  875795  9776200  2019-09-03 20:00:00   0.200000  32.320008  31.461775   \n",
       "875914  875914  9754965  2019-07-25 21:00:00   0.000000  32.355000  31.210000   \n",
       "\n",
       "            E_CO2_kg ports_in_range_indexes  \n",
       "18      16680.828581                   [81]  \n",
       "89       1396.629000                  [108]  \n",
       "365      4441.347806                  [108]  \n",
       "401      1517.140800                   [81]  \n",
       "503      4660.177824                  [108]  \n",
       "...              ...                    ...  \n",
       "875496   1396.629000                  [108]  \n",
       "875589   1925.230500                  [108]  \n",
       "875778   1851.117300                  [108]  \n",
       "875795   1925.230500                  [108]  \n",
       "875914   1517.140800                  [108]  \n",
       "\n",
       "[8532 rows x 8 columns]"
      ]
     },
     "execution_count": 9,
     "metadata": {},
     "output_type": "execute_result"
    }
   ],
   "source": [
    "ships_around_ports"
   ]
  },
  {
   "cell_type": "markdown",
   "id": "83e60b53",
   "metadata": {},
   "source": [
    "I can now use the distance function defined earlier on and run a code with for loops applied on a smaller dataset. "
   ]
  },
  {
   "cell_type": "code",
   "execution_count": 15,
   "id": "a56f16b5",
   "metadata": {},
   "outputs": [
    {
     "ename": "ValueError",
     "evalue": "The truth value of a Series is ambiguous. Use a.empty, a.bool(), a.item(), a.any() or a.all().",
     "output_type": "error",
     "traceback": [
      "\u001b[1;31m---------------------------------------------------------------------------\u001b[0m",
      "\u001b[1;31mValueError\u001b[0m                                Traceback (most recent call last)",
      "\u001b[1;32m~\\AppData\\Local\\Temp\\ipykernel_16528\\2141907033.py\u001b[0m in \u001b[0;36m?\u001b[1;34m()\u001b[0m\n\u001b[0;32m      7\u001b[0m     \u001b[1;32mfor\u001b[0m \u001b[0mvalue\u001b[0m \u001b[1;32min\u001b[0m \u001b[0mship\u001b[0m\u001b[1;33m[\u001b[0m\u001b[1;34m'ports_in_range_indexes'\u001b[0m\u001b[1;33m]\u001b[0m\u001b[1;33m:\u001b[0m\u001b[1;33m\u001b[0m\u001b[1;33m\u001b[0m\u001b[0m\n\u001b[0;32m      8\u001b[0m         \u001b[0mlat_port\u001b[0m \u001b[1;33m=\u001b[0m \u001b[0mfloat\u001b[0m\u001b[1;33m(\u001b[0m\u001b[0mports\u001b[0m\u001b[1;33m.\u001b[0m\u001b[0mloc\u001b[0m\u001b[1;33m[\u001b[0m\u001b[0mvalue\u001b[0m\u001b[1;33m,\u001b[0m \u001b[1;34m'Lat'\u001b[0m\u001b[1;33m]\u001b[0m\u001b[1;33m)\u001b[0m\u001b[1;33m\u001b[0m\u001b[1;33m\u001b[0m\u001b[0m\n\u001b[0;32m      9\u001b[0m         \u001b[0mlon_port\u001b[0m \u001b[1;33m=\u001b[0m \u001b[0mfloat\u001b[0m\u001b[1;33m(\u001b[0m\u001b[0mports\u001b[0m\u001b[1;33m.\u001b[0m\u001b[0mloc\u001b[0m\u001b[1;33m[\u001b[0m\u001b[0mvalue\u001b[0m\u001b[1;33m,\u001b[0m \u001b[1;34m'Lng'\u001b[0m\u001b[1;33m]\u001b[0m\u001b[1;33m)\u001b[0m\u001b[1;33m\u001b[0m\u001b[1;33m\u001b[0m\u001b[0m\n\u001b[0;32m     10\u001b[0m \u001b[1;33m\u001b[0m\u001b[0m\n\u001b[1;32m---> 11\u001b[1;33m         \u001b[0mdistance\u001b[0m \u001b[1;33m=\u001b[0m \u001b[0mcalculate_distance\u001b[0m\u001b[1;33m(\u001b[0m\u001b[0mships\u001b[0m\u001b[1;33m[\u001b[0m\u001b[1;34m'LATITUDE'\u001b[0m\u001b[1;33m]\u001b[0m\u001b[1;33m,\u001b[0m \u001b[0mships\u001b[0m\u001b[1;33m[\u001b[0m\u001b[1;34m'LONGITUDE'\u001b[0m\u001b[1;33m]\u001b[0m\u001b[1;33m,\u001b[0m \u001b[0mlat_port\u001b[0m\u001b[1;33m,\u001b[0m \u001b[0mlon_port\u001b[0m\u001b[1;33m)\u001b[0m\u001b[1;33m\u001b[0m\u001b[1;33m\u001b[0m\u001b[0m\n\u001b[0m\u001b[0;32m     12\u001b[0m \u001b[1;33m\u001b[0m\u001b[0m\n\u001b[0;32m     13\u001b[0m         \u001b[1;32mif\u001b[0m \u001b[0mdistance\u001b[0m \u001b[1;33m<\u001b[0m \u001b[0mmin_distance\u001b[0m\u001b[1;33m:\u001b[0m\u001b[1;33m\u001b[0m\u001b[1;33m\u001b[0m\u001b[0m\n\u001b[0;32m     14\u001b[0m             \u001b[0mmin_distance\u001b[0m \u001b[1;33m=\u001b[0m \u001b[0mdistance\u001b[0m\u001b[1;33m\u001b[0m\u001b[1;33m\u001b[0m\u001b[0m\n",
      "\u001b[1;32m~\\AppData\\Local\\Temp\\ipykernel_16528\\2513223939.py\u001b[0m in \u001b[0;36m?\u001b[1;34m(lat1, lon1, lat2, lon2)\u001b[0m\n\u001b[0;32m      3\u001b[0m \u001b[1;32mdef\u001b[0m \u001b[0mcalculate_distance\u001b[0m\u001b[1;33m(\u001b[0m\u001b[0mlat1\u001b[0m\u001b[1;33m,\u001b[0m \u001b[0mlon1\u001b[0m\u001b[1;33m,\u001b[0m \u001b[0mlat2\u001b[0m\u001b[1;33m,\u001b[0m \u001b[0mlon2\u001b[0m\u001b[1;33m)\u001b[0m\u001b[1;33m:\u001b[0m\u001b[1;33m\u001b[0m\u001b[1;33m\u001b[0m\u001b[0m\n\u001b[1;32m----> 4\u001b[1;33m     \u001b[1;32mreturn\u001b[0m \u001b[0mgeodesic\u001b[0m\u001b[1;33m(\u001b[0m\u001b[1;33m(\u001b[0m\u001b[0mlat1\u001b[0m\u001b[1;33m,\u001b[0m \u001b[0mlon1\u001b[0m\u001b[1;33m)\u001b[0m\u001b[1;33m,\u001b[0m \u001b[1;33m(\u001b[0m\u001b[0mlat2\u001b[0m\u001b[1;33m,\u001b[0m \u001b[0mlon2\u001b[0m\u001b[1;33m)\u001b[0m\u001b[1;33m)\u001b[0m\u001b[1;33m.\u001b[0m\u001b[0mkilometers\u001b[0m\u001b[1;33m\u001b[0m\u001b[1;33m\u001b[0m\u001b[0m\n\u001b[0m",
      "\u001b[1;32mc:\\Users\\payam\\AppData\\Local\\Programs\\Python\\Python312\\Lib\\site-packages\\geopy\\distance.py\u001b[0m in \u001b[0;36m?\u001b[1;34m(self, *args, **kwargs)\u001b[0m\n\u001b[0;32m    536\u001b[0m         \u001b[0mself\u001b[0m\u001b[1;33m.\u001b[0m\u001b[0mELLIPSOID\u001b[0m \u001b[1;33m=\u001b[0m \u001b[1;32mNone\u001b[0m\u001b[1;33m\u001b[0m\u001b[1;33m\u001b[0m\u001b[0m\n\u001b[0;32m    537\u001b[0m         \u001b[0mself\u001b[0m\u001b[1;33m.\u001b[0m\u001b[0mgeod\u001b[0m \u001b[1;33m=\u001b[0m \u001b[1;32mNone\u001b[0m\u001b[1;33m\u001b[0m\u001b[1;33m\u001b[0m\u001b[0m\n\u001b[0;32m    538\u001b[0m         \u001b[0mself\u001b[0m\u001b[1;33m.\u001b[0m\u001b[0mset_ellipsoid\u001b[0m\u001b[1;33m(\u001b[0m\u001b[0mkwargs\u001b[0m\u001b[1;33m.\u001b[0m\u001b[0mpop\u001b[0m\u001b[1;33m(\u001b[0m\u001b[1;34m'ellipsoid'\u001b[0m\u001b[1;33m,\u001b[0m \u001b[1;34m'WGS-84'\u001b[0m\u001b[1;33m)\u001b[0m\u001b[1;33m)\u001b[0m\u001b[1;33m\u001b[0m\u001b[1;33m\u001b[0m\u001b[0m\n\u001b[0;32m    539\u001b[0m         \u001b[0mmajor\u001b[0m\u001b[1;33m,\u001b[0m \u001b[0mminor\u001b[0m\u001b[1;33m,\u001b[0m \u001b[0mf\u001b[0m \u001b[1;33m=\u001b[0m \u001b[0mself\u001b[0m\u001b[1;33m.\u001b[0m\u001b[0mELLIPSOID\u001b[0m\u001b[1;33m\u001b[0m\u001b[1;33m\u001b[0m\u001b[0m\n\u001b[1;32m--> 540\u001b[1;33m         \u001b[0msuper\u001b[0m\u001b[1;33m(\u001b[0m\u001b[1;33m)\u001b[0m\u001b[1;33m.\u001b[0m\u001b[0m__init__\u001b[0m\u001b[1;33m(\u001b[0m\u001b[1;33m*\u001b[0m\u001b[0margs\u001b[0m\u001b[1;33m,\u001b[0m \u001b[1;33m**\u001b[0m\u001b[0mkwargs\u001b[0m\u001b[1;33m)\u001b[0m\u001b[1;33m\u001b[0m\u001b[1;33m\u001b[0m\u001b[0m\n\u001b[0m",
      "\u001b[1;32mc:\\Users\\payam\\AppData\\Local\\Programs\\Python\\Python312\\Lib\\site-packages\\geopy\\distance.py\u001b[0m in \u001b[0;36m?\u001b[1;34m(self, *args, **kwargs)\u001b[0m\n\u001b[0;32m    272\u001b[0m             \u001b[1;31m# calculating it first\u001b[0m\u001b[1;33m\u001b[0m\u001b[1;33m\u001b[0m\u001b[0m\n\u001b[0;32m    273\u001b[0m             \u001b[0mkilometers\u001b[0m \u001b[1;33m+=\u001b[0m \u001b[0margs\u001b[0m\u001b[1;33m[\u001b[0m\u001b[1;36m0\u001b[0m\u001b[1;33m]\u001b[0m\u001b[1;33m\u001b[0m\u001b[1;33m\u001b[0m\u001b[0m\n\u001b[0;32m    274\u001b[0m         \u001b[1;32melif\u001b[0m \u001b[0mlen\u001b[0m\u001b[1;33m(\u001b[0m\u001b[0margs\u001b[0m\u001b[1;33m)\u001b[0m \u001b[1;33m>\u001b[0m \u001b[1;36m1\u001b[0m\u001b[1;33m:\u001b[0m\u001b[1;33m\u001b[0m\u001b[1;33m\u001b[0m\u001b[0m\n\u001b[0;32m    275\u001b[0m             \u001b[1;32mfor\u001b[0m \u001b[0ma\u001b[0m\u001b[1;33m,\u001b[0m \u001b[0mb\u001b[0m \u001b[1;32min\u001b[0m \u001b[0mutil\u001b[0m\u001b[1;33m.\u001b[0m\u001b[0mpairwise\u001b[0m\u001b[1;33m(\u001b[0m\u001b[0margs\u001b[0m\u001b[1;33m)\u001b[0m\u001b[1;33m:\u001b[0m\u001b[1;33m\u001b[0m\u001b[1;33m\u001b[0m\u001b[0m\n\u001b[1;32m--> 276\u001b[1;33m                 \u001b[0mkilometers\u001b[0m \u001b[1;33m+=\u001b[0m \u001b[0mself\u001b[0m\u001b[1;33m.\u001b[0m\u001b[0mmeasure\u001b[0m\u001b[1;33m(\u001b[0m\u001b[0ma\u001b[0m\u001b[1;33m,\u001b[0m \u001b[0mb\u001b[0m\u001b[1;33m)\u001b[0m\u001b[1;33m\u001b[0m\u001b[1;33m\u001b[0m\u001b[0m\n\u001b[0m\u001b[0;32m    277\u001b[0m \u001b[1;33m\u001b[0m\u001b[0m\n\u001b[0;32m    278\u001b[0m         \u001b[0mkilometers\u001b[0m \u001b[1;33m+=\u001b[0m \u001b[0munits\u001b[0m\u001b[1;33m.\u001b[0m\u001b[0mkilometers\u001b[0m\u001b[1;33m(\u001b[0m\u001b[1;33m**\u001b[0m\u001b[0mkwargs\u001b[0m\u001b[1;33m)\u001b[0m\u001b[1;33m\u001b[0m\u001b[1;33m\u001b[0m\u001b[0m\n\u001b[0;32m    279\u001b[0m         \u001b[0mself\u001b[0m\u001b[1;33m.\u001b[0m\u001b[0m__kilometers\u001b[0m \u001b[1;33m=\u001b[0m \u001b[0mkilometers\u001b[0m\u001b[1;33m\u001b[0m\u001b[1;33m\u001b[0m\u001b[0m\n",
      "\u001b[1;32mc:\\Users\\payam\\AppData\\Local\\Programs\\Python\\Python312\\Lib\\site-packages\\geopy\\distance.py\u001b[0m in \u001b[0;36m?\u001b[1;34m(self, a, b)\u001b[0m\n\u001b[0;32m    555\u001b[0m     \u001b[1;32mdef\u001b[0m \u001b[0mmeasure\u001b[0m\u001b[1;33m(\u001b[0m\u001b[0mself\u001b[0m\u001b[1;33m,\u001b[0m \u001b[0ma\u001b[0m\u001b[1;33m,\u001b[0m \u001b[0mb\u001b[0m\u001b[1;33m)\u001b[0m\u001b[1;33m:\u001b[0m\u001b[1;33m\u001b[0m\u001b[1;33m\u001b[0m\u001b[0m\n\u001b[1;32m--> 556\u001b[1;33m         \u001b[0ma\u001b[0m\u001b[1;33m,\u001b[0m \u001b[0mb\u001b[0m \u001b[1;33m=\u001b[0m \u001b[0mPoint\u001b[0m\u001b[1;33m(\u001b[0m\u001b[0ma\u001b[0m\u001b[1;33m)\u001b[0m\u001b[1;33m,\u001b[0m \u001b[0mPoint\u001b[0m\u001b[1;33m(\u001b[0m\u001b[0mb\u001b[0m\u001b[1;33m)\u001b[0m\u001b[1;33m\u001b[0m\u001b[1;33m\u001b[0m\u001b[0m\n\u001b[0m\u001b[0;32m    557\u001b[0m         \u001b[0m_ensure_same_altitude\u001b[0m\u001b[1;33m(\u001b[0m\u001b[0ma\u001b[0m\u001b[1;33m,\u001b[0m \u001b[0mb\u001b[0m\u001b[1;33m)\u001b[0m\u001b[1;33m\u001b[0m\u001b[1;33m\u001b[0m\u001b[0m\n\u001b[0;32m    558\u001b[0m         \u001b[0mlat1\u001b[0m\u001b[1;33m,\u001b[0m \u001b[0mlon1\u001b[0m \u001b[1;33m=\u001b[0m \u001b[0ma\u001b[0m\u001b[1;33m.\u001b[0m\u001b[0mlatitude\u001b[0m\u001b[1;33m,\u001b[0m \u001b[0ma\u001b[0m\u001b[1;33m.\u001b[0m\u001b[0mlongitude\u001b[0m\u001b[1;33m\u001b[0m\u001b[1;33m\u001b[0m\u001b[0m\n\u001b[0;32m    559\u001b[0m         \u001b[0mlat2\u001b[0m\u001b[1;33m,\u001b[0m \u001b[0mlon2\u001b[0m \u001b[1;33m=\u001b[0m \u001b[0mb\u001b[0m\u001b[1;33m.\u001b[0m\u001b[0mlatitude\u001b[0m\u001b[1;33m,\u001b[0m \u001b[0mb\u001b[0m\u001b[1;33m.\u001b[0m\u001b[0mlongitude\u001b[0m\u001b[1;33m\u001b[0m\u001b[1;33m\u001b[0m\u001b[0m\n",
      "\u001b[1;32mc:\\Users\\payam\\AppData\\Local\\Programs\\Python\\Python312\\Lib\\site-packages\\geopy\\point.py\u001b[0m in \u001b[0;36m?\u001b[1;34m(cls, latitude, longitude, altitude)\u001b[0m\n\u001b[0;32m    171\u001b[0m                     raise TypeError(\n\u001b[0;32m    172\u001b[0m                         \u001b[1;34m\"Failed to create Point instance from %r.\"\u001b[0m \u001b[1;33m%\u001b[0m \u001b[1;33m(\u001b[0m\u001b[0marg\u001b[0m\u001b[1;33m,\u001b[0m\u001b[1;33m)\u001b[0m\u001b[1;33m\u001b[0m\u001b[1;33m\u001b[0m\u001b[0m\n\u001b[0;32m    173\u001b[0m                     \u001b[1;33m)\u001b[0m\u001b[1;33m\u001b[0m\u001b[1;33m\u001b[0m\u001b[0m\n\u001b[0;32m    174\u001b[0m                 \u001b[1;32melse\u001b[0m\u001b[1;33m:\u001b[0m\u001b[1;33m\u001b[0m\u001b[1;33m\u001b[0m\u001b[0m\n\u001b[1;32m--> 175\u001b[1;33m                     \u001b[1;32mreturn\u001b[0m \u001b[0mcls\u001b[0m\u001b[1;33m.\u001b[0m\u001b[0mfrom_sequence\u001b[0m\u001b[1;33m(\u001b[0m\u001b[0mseq\u001b[0m\u001b[1;33m)\u001b[0m\u001b[1;33m\u001b[0m\u001b[1;33m\u001b[0m\u001b[0m\n\u001b[0m\u001b[0;32m    176\u001b[0m \u001b[1;33m\u001b[0m\u001b[0m\n\u001b[0;32m    177\u001b[0m         \u001b[1;32mif\u001b[0m \u001b[0msingle_arg\u001b[0m\u001b[1;33m:\u001b[0m\u001b[1;33m\u001b[0m\u001b[1;33m\u001b[0m\u001b[0m\n\u001b[0;32m    178\u001b[0m             raise ValueError(\n",
      "\u001b[1;32mc:\\Users\\payam\\AppData\\Local\\Programs\\Python\\Python312\\Lib\\site-packages\\geopy\\point.py\u001b[0m in \u001b[0;36m?\u001b[1;34m(cls, seq)\u001b[0m\n\u001b[0;32m    468\u001b[0m         \u001b[0margs\u001b[0m \u001b[1;33m=\u001b[0m \u001b[0mtuple\u001b[0m\u001b[1;33m(\u001b[0m\u001b[0mislice\u001b[0m\u001b[1;33m(\u001b[0m\u001b[0mseq\u001b[0m\u001b[1;33m,\u001b[0m \u001b[1;36m4\u001b[0m\u001b[1;33m)\u001b[0m\u001b[1;33m)\u001b[0m\u001b[1;33m\u001b[0m\u001b[1;33m\u001b[0m\u001b[0m\n\u001b[0;32m    469\u001b[0m         \u001b[1;32mif\u001b[0m \u001b[0mlen\u001b[0m\u001b[1;33m(\u001b[0m\u001b[0margs\u001b[0m\u001b[1;33m)\u001b[0m \u001b[1;33m>\u001b[0m \u001b[1;36m3\u001b[0m\u001b[1;33m:\u001b[0m\u001b[1;33m\u001b[0m\u001b[1;33m\u001b[0m\u001b[0m\n\u001b[0;32m    470\u001b[0m             raise ValueError('When creating a Point from sequence, it '\n\u001b[0;32m    471\u001b[0m                              \u001b[1;34m'must not have more than 3 items.'\u001b[0m\u001b[1;33m)\u001b[0m\u001b[1;33m\u001b[0m\u001b[1;33m\u001b[0m\u001b[0m\n\u001b[1;32m--> 472\u001b[1;33m         \u001b[1;32mreturn\u001b[0m \u001b[0mcls\u001b[0m\u001b[1;33m(\u001b[0m\u001b[1;33m*\u001b[0m\u001b[0margs\u001b[0m\u001b[1;33m)\u001b[0m\u001b[1;33m\u001b[0m\u001b[1;33m\u001b[0m\u001b[0m\n\u001b[0m",
      "\u001b[1;32mc:\\Users\\payam\\AppData\\Local\\Programs\\Python\\Python312\\Lib\\site-packages\\geopy\\point.py\u001b[0m in \u001b[0;36m?\u001b[1;34m(cls, latitude, longitude, altitude)\u001b[0m\n\u001b[0;32m    184\u001b[0m                 \u001b[1;34m'to get rid of this error.'\u001b[0m\u001b[1;33m\u001b[0m\u001b[1;33m\u001b[0m\u001b[0m\n\u001b[0;32m    185\u001b[0m             \u001b[1;33m)\u001b[0m\u001b[1;33m\u001b[0m\u001b[1;33m\u001b[0m\u001b[0m\n\u001b[0;32m    186\u001b[0m \u001b[1;33m\u001b[0m\u001b[0m\n\u001b[0;32m    187\u001b[0m         latitude, longitude, altitude = \\\n\u001b[1;32m--> 188\u001b[1;33m             \u001b[0m_normalize_coordinates\u001b[0m\u001b[1;33m(\u001b[0m\u001b[0mlatitude\u001b[0m\u001b[1;33m,\u001b[0m \u001b[0mlongitude\u001b[0m\u001b[1;33m,\u001b[0m \u001b[0maltitude\u001b[0m\u001b[1;33m)\u001b[0m\u001b[1;33m\u001b[0m\u001b[1;33m\u001b[0m\u001b[0m\n\u001b[0m\u001b[0;32m    189\u001b[0m \u001b[1;33m\u001b[0m\u001b[0m\n\u001b[0;32m    190\u001b[0m         \u001b[0mself\u001b[0m \u001b[1;33m=\u001b[0m \u001b[0msuper\u001b[0m\u001b[1;33m(\u001b[0m\u001b[1;33m)\u001b[0m\u001b[1;33m.\u001b[0m\u001b[0m__new__\u001b[0m\u001b[1;33m(\u001b[0m\u001b[0mcls\u001b[0m\u001b[1;33m)\u001b[0m\u001b[1;33m\u001b[0m\u001b[1;33m\u001b[0m\u001b[0m\n\u001b[0;32m    191\u001b[0m         \u001b[0mself\u001b[0m\u001b[1;33m.\u001b[0m\u001b[0mlatitude\u001b[0m \u001b[1;33m=\u001b[0m \u001b[0mlatitude\u001b[0m\u001b[1;33m\u001b[0m\u001b[1;33m\u001b[0m\u001b[0m\n",
      "\u001b[1;32mc:\\Users\\payam\\AppData\\Local\\Programs\\Python\\Python312\\Lib\\site-packages\\geopy\\point.py\u001b[0m in \u001b[0;36m?\u001b[1;34m(latitude, longitude, altitude)\u001b[0m\n\u001b[0;32m     56\u001b[0m \u001b[1;32mdef\u001b[0m \u001b[0m_normalize_coordinates\u001b[0m\u001b[1;33m(\u001b[0m\u001b[0mlatitude\u001b[0m\u001b[1;33m,\u001b[0m \u001b[0mlongitude\u001b[0m\u001b[1;33m,\u001b[0m \u001b[0maltitude\u001b[0m\u001b[1;33m)\u001b[0m\u001b[1;33m:\u001b[0m\u001b[1;33m\u001b[0m\u001b[1;33m\u001b[0m\u001b[0m\n\u001b[1;32m---> 57\u001b[1;33m     \u001b[0mlatitude\u001b[0m \u001b[1;33m=\u001b[0m \u001b[0mfloat\u001b[0m\u001b[1;33m(\u001b[0m\u001b[0mlatitude\u001b[0m \u001b[1;32mor\u001b[0m \u001b[1;36m0.0\u001b[0m\u001b[1;33m)\u001b[0m\u001b[1;33m\u001b[0m\u001b[1;33m\u001b[0m\u001b[0m\n\u001b[0m\u001b[0;32m     58\u001b[0m     \u001b[0mlongitude\u001b[0m \u001b[1;33m=\u001b[0m \u001b[0mfloat\u001b[0m\u001b[1;33m(\u001b[0m\u001b[0mlongitude\u001b[0m \u001b[1;32mor\u001b[0m \u001b[1;36m0.0\u001b[0m\u001b[1;33m)\u001b[0m\u001b[1;33m\u001b[0m\u001b[1;33m\u001b[0m\u001b[0m\n\u001b[0;32m     59\u001b[0m     \u001b[0maltitude\u001b[0m \u001b[1;33m=\u001b[0m \u001b[0mfloat\u001b[0m\u001b[1;33m(\u001b[0m\u001b[0maltitude\u001b[0m \u001b[1;32mor\u001b[0m \u001b[1;36m0.0\u001b[0m\u001b[1;33m)\u001b[0m\u001b[1;33m\u001b[0m\u001b[1;33m\u001b[0m\u001b[0m\n\u001b[0;32m     60\u001b[0m \u001b[1;33m\u001b[0m\u001b[0m\n",
      "\u001b[1;32mc:\\Users\\payam\\AppData\\Local\\Programs\\Python\\Python312\\Lib\\site-packages\\pandas\\core\\generic.py\u001b[0m in \u001b[0;36m?\u001b[1;34m(self)\u001b[0m\n\u001b[0;32m   1517\u001b[0m     \u001b[1;33m@\u001b[0m\u001b[0mfinal\u001b[0m\u001b[1;33m\u001b[0m\u001b[1;33m\u001b[0m\u001b[0m\n\u001b[0;32m   1518\u001b[0m     \u001b[1;32mdef\u001b[0m \u001b[0m__nonzero__\u001b[0m\u001b[1;33m(\u001b[0m\u001b[0mself\u001b[0m\u001b[1;33m)\u001b[0m \u001b[1;33m->\u001b[0m \u001b[0mNoReturn\u001b[0m\u001b[1;33m:\u001b[0m\u001b[1;33m\u001b[0m\u001b[1;33m\u001b[0m\u001b[0m\n\u001b[1;32m-> 1519\u001b[1;33m         raise ValueError(\n\u001b[0m\u001b[0;32m   1520\u001b[0m             \u001b[1;33mf\"\u001b[0m\u001b[1;33mThe truth value of a \u001b[0m\u001b[1;33m{\u001b[0m\u001b[0mtype\u001b[0m\u001b[1;33m(\u001b[0m\u001b[0mself\u001b[0m\u001b[1;33m)\u001b[0m\u001b[1;33m.\u001b[0m\u001b[0m__name__\u001b[0m\u001b[1;33m}\u001b[0m\u001b[1;33m is ambiguous. \u001b[0m\u001b[1;33m\"\u001b[0m\u001b[1;33m\u001b[0m\u001b[1;33m\u001b[0m\u001b[0m\n\u001b[0;32m   1521\u001b[0m             \u001b[1;34m\"Use a.empty, a.bool(), a.item(), a.any() or a.all().\"\u001b[0m\u001b[1;33m\u001b[0m\u001b[1;33m\u001b[0m\u001b[0m\n\u001b[0;32m   1522\u001b[0m         \u001b[1;33m)\u001b[0m\u001b[1;33m\u001b[0m\u001b[1;33m\u001b[0m\u001b[0m\n",
      "\u001b[1;31mValueError\u001b[0m: The truth value of a Series is ambiguous. Use a.empty, a.bool(), a.item(), a.any() or a.all()."
     ]
    }
   ],
   "source": [
    "matches = []\n",
    "\n",
    "for index, ship in ships_around_ports.iterrows():\n",
    "    min_distance = float('inf') \n",
    "    closest_port_index = None\n",
    "\n",
    "    for value in ship['ports_in_range_indexes']:\n",
    "        lat_port = float(ports.loc[value, 'Lat'])\n",
    "        lon_port = float(ports.loc[value, 'Lng'])\n",
    "\n",
    "        distance = calculate_distance(ships['LATITUDE'], ships['LONGITUDE'], lat_port, lon_port)\n",
    "\n",
    "        if distance < min_distance:\n",
    "            min_distance = distance\n",
    "            closest_port_index = value\n",
    "\n",
    "    ships_around_ports.at[index, 'closest_port'] = ports.loc[closest_port_index, 'PORT_NAME']\n",
    "    ships_around_ports.at[index, 'continent'] = ports.loc[closest_port_index, 'Continent']\n",
    "    ships_around_ports.at[index, 'distance_to_closest_port'] = min_distance\n",
    "        \n",
    "\n",
    "ships.to_csv('final_ship.csv', index=False)\n"
   ]
  },
  {
   "cell_type": "code",
   "execution_count": null,
   "id": "d601825f",
   "metadata": {},
   "outputs": [],
   "source": []
  }
 ],
 "metadata": {
  "kernelspec": {
   "display_name": "Python 3 (ipykernel)",
   "language": "python",
   "name": "python3"
  },
  "language_info": {
   "codemirror_mode": {
    "name": "ipython",
    "version": 3
   },
   "file_extension": ".py",
   "mimetype": "text/x-python",
   "name": "python",
   "nbconvert_exporter": "python",
   "pygments_lexer": "ipython3",
   "version": "3.12.0"
  }
 },
 "nbformat": 4,
 "nbformat_minor": 5
}
