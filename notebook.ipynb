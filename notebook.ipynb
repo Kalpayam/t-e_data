{
 "cells": [
  {
   "cell_type": "markdown",
   "id": "1a556679",
   "metadata": {},
   "source": [
    "I have hourly data for geographical positions, speed over goround, and CO2 emissions from 100 unique container ships for the year 2019. I have also loaded a list of major ports across the world. Assuming the sample is complete and representative, I intened to present a simple analysis of air pollution around ports. "
   ]
  },
  {
   "cell_type": "code",
   "execution_count": 71,
   "id": "efd7f19a",
   "metadata": {},
   "outputs": [],
   "source": [
    "import pandas as pd\n",
    "import sqlite3"
   ]
  },
  {
   "cell_type": "markdown",
   "id": "bb4ae82a",
   "metadata": {},
   "source": [
    "# Reading the data"
   ]
  },
  {
   "cell_type": "code",
   "execution_count": 72,
   "id": "57a66da1",
   "metadata": {},
   "outputs": [],
   "source": [
    "con = sqlite3.connect(\"dwh/db\")\n",
    "\n",
    "ships = pd.read_sql_query('select * from ships', con)\n",
    "ports = pd.read_sql_query('select * from ports', con)\n",
    "ports_emissions = pd.read_sql_query('select * from ports_emissions', con)"
   ]
  },
  {
   "cell_type": "markdown",
   "id": "e1629b98",
   "metadata": {},
   "source": []
  },
  {
   "cell_type": "code",
   "execution_count": 73,
   "id": "5d1ae0d6",
   "metadata": {},
   "outputs": [],
   "source": []
  },
  {
   "cell_type": "code",
   "execution_count": 74,
   "id": "c7262b32",
   "metadata": {},
   "outputs": [
    {
     "name": "stdout",
     "output_type": "stream",
     "text": [
      "             closest_port continent      E_CO2_kg   LATITUDE   LONGITUDE\n",
      "0              ABU RUDEIS    Africa  2.211624e+06  28.907334   33.183100\n",
      "1              ABU ZENIMA    Africa  1.364489e+04  29.043134   33.119100\n",
      "2                ABURATSU      Asia  3.066918e+04  31.571434  131.406500\n",
      "3                 ADABIYA    Africa  8.560927e+06  29.865334   32.473500\n",
      "4                    ADEN      Asia  7.887054e+04  12.795288   45.005310\n",
      "..                    ...       ...           ...        ...         ...\n",
      "559                 ZHAPU      Asia  5.244889e+04  30.583333  121.083333\n",
      "560              ZHEN HAI      Asia  2.777393e+04  29.950000  121.700000\n",
      "561              ZHOUSHAN      Asia  2.541532e+07  30.006934  122.098700\n",
      "562                ZHUHAI      Asia  7.450811e+05  22.233333  113.583333\n",
      "563  ZONA FRANCA DE CADIZ    Europe  1.647433e+04  36.503513   -6.263381\n",
      "\n",
      "[564 rows x 5 columns]\n"
     ]
    }
   ],
   "source": []
  },
  {
   "cell_type": "code",
   "execution_count": null,
   "id": "172c215d",
   "metadata": {},
   "outputs": [],
   "source": [
    "import geopandas as gpd\n",
    "import matplotlib.pyplot as plt\n",
    "\n",
    "# Assuming 'ports' is a GeoDataFrame with geometries and emissions data\n",
    "# Assuming 'E_CO2_kg' is the column with emissions data\n",
    "\n",
    "# Plot the world map\n",
    "world = gpd.read_file(gpd.datasets.get_path('naturalearth_lowres'))\n",
    "fig, ax = plt.subplots(figsize=(10, 6))\n",
    "world.plot(ax=ax, color='lightgrey')\n",
    "\n",
    "# Plot ports with bubble size representing emissions\n",
    "for index, port in ports.iterrows():\n",
    "    lat = port['Lat']\n",
    "    lon = port['Lng']\n",
    "    \n",
    "    # You may want to customize the bubble size based on emissions\n",
    "    bubble_size = port['E_CO2_kg'] * 0.0001\n",
    "    \n",
    "    # Plot the bubble\n",
    "    ax.scatter(lon, lat, s=bubble_size, color='blue', alpha=0.7, edgecolors='black')\n",
    "    \n",
    "    # Annotate with port information\n",
    "    ax.text(lon, lat, f\"{port['Postal']} ({port['E_CO2_kg']} kg)\", fontsize=8)\n",
    "\n",
    "plt.title('Emissions at Ports')\n",
    "plt.show()\n"
   ]
  }
 ],
 "metadata": {
  "kernelspec": {
   "display_name": "Python 3 (ipykernel)",
   "language": "python",
   "name": "python3"
  },
  "language_info": {
   "codemirror_mode": {
    "name": "ipython",
    "version": 3
   },
   "file_extension": ".py",
   "mimetype": "text/x-python",
   "name": "python",
   "nbconvert_exporter": "python",
   "pygments_lexer": "ipython3",
   "version": "3.11.5"
  }
 },
 "nbformat": 4,
 "nbformat_minor": 5
}
